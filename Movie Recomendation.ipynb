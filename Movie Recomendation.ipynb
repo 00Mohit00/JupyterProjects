{
 "cells": [
  {
   "cell_type": "code",
   "execution_count": 100,
   "id": "5caa50d9-1e30-4dbe-8b15-ce3fe9c820a1",
   "metadata": {},
   "outputs": [],
   "source": [
    "import pandas as pd\n",
    "import numpy as np\n",
    "import nltk\n",
    "from nltk.stem import PorterStemmer\n",
    "from nltk.tokenize import word_tokenize,sent_tokenize\n",
    "from sklearn.feature_extraction.text import CountVectorizer\n",
    "import matplotlib.pyplot as plt\n",
    "%matplotlib inline\n",
    "ps = PorterStemmer()\n",
    "cv = CountVectorizer(max_features=5000, stop_words= 'english')"
   ]
  },
  {
   "cell_type": "code",
   "execution_count": 109,
   "id": "40d16dad-9957-4f64-a940-c58670afdd1c",
   "metadata": {},
   "outputs": [],
   "source": [
    "df = pd.read_csv('tmdb_5000_credits.csv', nrows = 500)\n",
    "fd = pd.read_csv('tmdb_5000_movies.csv', nrows = 500)"
   ]
  },
  {
   "cell_type": "code",
   "execution_count": 110,
   "id": "9a5024cb-6acb-4552-834d-c8cc5d16900e",
   "metadata": {},
   "outputs": [
    {
     "data": {
      "text/plain": [
       "(movie_id    False\n",
       " title       False\n",
       " cast        False\n",
       " crew        False\n",
       " dtype: bool,\n",
       " budget                  False\n",
       " genres                  False\n",
       " homepage                 True\n",
       " id                      False\n",
       " keywords                False\n",
       " original_language       False\n",
       " original_title          False\n",
       " overview                False\n",
       " popularity              False\n",
       " production_companies    False\n",
       " production_countries    False\n",
       " release_date            False\n",
       " revenue                 False\n",
       " runtime                 False\n",
       " spoken_languages        False\n",
       " status                  False\n",
       " tagline                  True\n",
       " title                   False\n",
       " vote_average            False\n",
       " vote_count              False\n",
       " dtype: bool)"
      ]
     },
     "execution_count": 110,
     "metadata": {},
     "output_type": "execute_result"
    }
   ],
   "source": [
    "df.isna().any(), fd.isna().any()"
   ]
  },
  {
   "cell_type": "raw",
   "id": "67812b32",
   "metadata": {},
   "source": [
    "df = df.dropna()\n",
    "fd = fd.dropna()"
   ]
  },
  {
   "cell_type": "code",
   "execution_count": 103,
   "id": "7fbff3cc-2418-4285-a3f7-8acb2d885e2c",
   "metadata": {},
   "outputs": [
    {
     "name": "stderr",
     "output_type": "stream",
     "text": [
      "C:\\Users\\Rohit Khare\\AppData\\Local\\Temp\\ipykernel_16356\\3857865939.py:15: SettingWithCopyWarning: \n",
      "A value is trying to be set on a copy of a slice from a DataFrame\n",
      "\n",
      "See the caveats in the documentation: https://pandas.pydata.org/pandas-docs/stable/user_guide/indexing.html#returning-a-view-versus-a-copy\n",
      "  dfc[i] = u\n"
     ]
    }
   ],
   "source": [
    "df_cast = df[['cast', 'movie_id']]\n",
    "dfc = df_cast['cast']\n",
    "for i,rows in df_cast.iterrows():\n",
    "    c = (rows['cast'])\n",
    "    c = c.replace('[','')\n",
    "    c = c.replace(']','')\n",
    "    p = c.split(',')\n",
    "    h = len(p)\n",
    "    u=[]\n",
    "    for k in range (h):\n",
    "        l = p[k].split(':')\n",
    "        if((l[0][2:len(l[0])-1]) == 'name'):\n",
    "            u.append(l[1][2:len(l[1])-1])\n",
    "    #print(u[0])\n",
    "    dfc[i] = u"
   ]
  },
  {
   "cell_type": "code",
   "execution_count": 104,
   "id": "6cff4466-c673-436e-84db-2e1a651dd82f",
   "metadata": {},
   "outputs": [
    {
     "name": "stderr",
     "output_type": "stream",
     "text": [
      "C:\\Users\\Rohit Khare\\AppData\\Local\\Temp\\ipykernel_16356\\201686734.py:2: SettingWithCopyWarning: \n",
      "A value is trying to be set on a copy of a slice from a DataFrame\n",
      "\n",
      "See the caveats in the documentation: https://pandas.pydata.org/pandas-docs/stable/user_guide/indexing.html#returning-a-view-versus-a-copy\n",
      "  dfc[i] = ''.join(ps.stem(w) for w in rows['cast'])\n"
     ]
    }
   ],
   "source": [
    "for i,rows in df_cast.iterrows():\n",
    "    dfc[i] = ''.join(ps.stem(w) for w in rows['cast'])"
   ]
  },
  {
   "cell_type": "code",
   "execution_count": 108,
   "id": "582a1de4-6c6a-4269-8cad-ec9586ff2c3b",
   "metadata": {},
   "outputs": [
    {
     "data": {
      "text/html": [
       "<div>\n",
       "<style scoped>\n",
       "    .dataframe tbody tr th:only-of-type {\n",
       "        vertical-align: middle;\n",
       "    }\n",
       "\n",
       "    .dataframe tbody tr th {\n",
       "        vertical-align: top;\n",
       "    }\n",
       "\n",
       "    .dataframe thead th {\n",
       "        text-align: right;\n",
       "    }\n",
       "</style>\n",
       "<table border=\"1\" class=\"dataframe\">\n",
       "  <thead>\n",
       "    <tr style=\"text-align: right;\">\n",
       "      <th></th>\n",
       "      <th>movie_id</th>\n",
       "      <th>title</th>\n",
       "      <th>cast</th>\n",
       "      <th>crew</th>\n",
       "      <th>cast2</th>\n",
       "    </tr>\n",
       "  </thead>\n",
       "  <tbody>\n",
       "    <tr>\n",
       "      <th>0</th>\n",
       "      <td>5</td>\n",
       "      <td>Four Rooms</td>\n",
       "      <td>[{\"cast_id\": 42, \"character\": \"Ted the Bellhop...</td>\n",
       "      <td>[{\"credit_id\": \"52fe420dc3a36847f800012d\", \"de...</td>\n",
       "      <td>[Allison Anders\", Allison Anders\", Alexandre R...</td>\n",
       "    </tr>\n",
       "    <tr>\n",
       "      <th>1</th>\n",
       "      <td>11</td>\n",
       "      <td>Star Wars</td>\n",
       "      <td>[{\"cast_id\": 3, \"character\": \"Luke Skywalker\",...</td>\n",
       "      <td>[{\"credit_id\": \"52fe420dc3a36847f8000437\", \"de...</td>\n",
       "      <td>[George Lucas\", George Lucas\", George Lucas\", ...</td>\n",
       "    </tr>\n",
       "    <tr>\n",
       "      <th>2</th>\n",
       "      <td>12</td>\n",
       "      <td>Finding Nemo</td>\n",
       "      <td>[{\"cast_id\": 8, \"character\": \"Marlin (voice)\",...</td>\n",
       "      <td>[{\"credit_id\": \"52fe420ec3a36847f80006b1\", \"de...</td>\n",
       "      <td>[Andrew Stanton\", Andrew Stanton\", Andrew Stan...</td>\n",
       "    </tr>\n",
       "    <tr>\n",
       "      <th>3</th>\n",
       "      <td>13</td>\n",
       "      <td>Forrest Gump</td>\n",
       "      <td>[{\"cast_id\": 7, \"character\": \"Forrest Gump\", \"...</td>\n",
       "      <td>[{\"credit_id\": \"52fe420ec3a36847f800076b\", \"de...</td>\n",
       "      <td>[Alan Silvestri\", Robert Zemeckis\", Winston Gr...</td>\n",
       "    </tr>\n",
       "    <tr>\n",
       "      <th>4</th>\n",
       "      <td>14</td>\n",
       "      <td>American Beauty</td>\n",
       "      <td>[{\"cast_id\": 6, \"character\": \"Lester Burnham\",...</td>\n",
       "      <td>[{\"credit_id\": \"52fe420ec3a36847f8000809\", \"de...</td>\n",
       "      <td>[Thomas Newman\", Sam Mendes\", Alan Ball\", Alan...</td>\n",
       "    </tr>\n",
       "    <tr>\n",
       "      <th>...</th>\n",
       "      <td>...</td>\n",
       "      <td>...</td>\n",
       "      <td>...</td>\n",
       "      <td>...</td>\n",
       "      <td>...</td>\n",
       "    </tr>\n",
       "    <tr>\n",
       "      <th>4798</th>\n",
       "      <td>426067</td>\n",
       "      <td>Midnight Cabaret</td>\n",
       "      <td>[{\"cast_id\": 1, \"character\": \"Dawn\", \"credit_i...</td>\n",
       "      <td>[{\"credit_id\": \"582a4cdb9251417b1803dd47\", \"de...</td>\n",
       "      <td>[{\"credit_id\": \"582a4cdb9251417b1803dd47\", \"de...</td>\n",
       "    </tr>\n",
       "    <tr>\n",
       "      <th>4799</th>\n",
       "      <td>426469</td>\n",
       "      <td>Growing Up Smith</td>\n",
       "      <td>[{\"cast_id\": 4, \"character\": \"Smith Bhatnagar\"...</td>\n",
       "      <td>[{\"credit_id\": \"582e0bdfc3a368772600b6c1\", \"de...</td>\n",
       "      <td>[{\"credit_id\": \"582e0bdfc3a368772600b6c1\", \"de...</td>\n",
       "    </tr>\n",
       "    <tr>\n",
       "      <th>4800</th>\n",
       "      <td>433715</td>\n",
       "      <td>8 Days</td>\n",
       "      <td>[{\"cast_id\": 3, \"character\": \"Amber\", \"credit_...</td>\n",
       "      <td>[{\"credit_id\": \"58713acfc3a3684f0a00a9ac\", \"de...</td>\n",
       "      <td>[{\"credit_id\": \"58713acfc3a3684f0a00a9ac\", \"de...</td>\n",
       "    </tr>\n",
       "    <tr>\n",
       "      <th>4801</th>\n",
       "      <td>447027</td>\n",
       "      <td>Running Forever</td>\n",
       "      <td>[]</td>\n",
       "      <td>[]</td>\n",
       "      <td>[]</td>\n",
       "    </tr>\n",
       "    <tr>\n",
       "      <th>4802</th>\n",
       "      <td>459488</td>\n",
       "      <td>To Be Frank, Sinatra at 100</td>\n",
       "      <td>[{\"cast_id\": 0, \"character\": \"Narrator\", \"cred...</td>\n",
       "      <td>[{\"credit_id\": \"592b25e4c3a368783e065a2f\", \"de...</td>\n",
       "      <td>[{\"credit_id\": \"592b25e4c3a368783e065a2f\", \"de...</td>\n",
       "    </tr>\n",
       "  </tbody>\n",
       "</table>\n",
       "<p>4803 rows × 5 columns</p>\n",
       "</div>"
      ],
      "text/plain": [
       "      movie_id                        title  \\\n",
       "0            5                   Four Rooms   \n",
       "1           11                    Star Wars   \n",
       "2           12                 Finding Nemo   \n",
       "3           13                 Forrest Gump   \n",
       "4           14              American Beauty   \n",
       "...        ...                          ...   \n",
       "4798    426067             Midnight Cabaret   \n",
       "4799    426469             Growing Up Smith   \n",
       "4800    433715                       8 Days   \n",
       "4801    447027              Running Forever   \n",
       "4802    459488  To Be Frank, Sinatra at 100   \n",
       "\n",
       "                                                   cast  \\\n",
       "0     [{\"cast_id\": 42, \"character\": \"Ted the Bellhop...   \n",
       "1     [{\"cast_id\": 3, \"character\": \"Luke Skywalker\",...   \n",
       "2     [{\"cast_id\": 8, \"character\": \"Marlin (voice)\",...   \n",
       "3     [{\"cast_id\": 7, \"character\": \"Forrest Gump\", \"...   \n",
       "4     [{\"cast_id\": 6, \"character\": \"Lester Burnham\",...   \n",
       "...                                                 ...   \n",
       "4798  [{\"cast_id\": 1, \"character\": \"Dawn\", \"credit_i...   \n",
       "4799  [{\"cast_id\": 4, \"character\": \"Smith Bhatnagar\"...   \n",
       "4800  [{\"cast_id\": 3, \"character\": \"Amber\", \"credit_...   \n",
       "4801                                                 []   \n",
       "4802  [{\"cast_id\": 0, \"character\": \"Narrator\", \"cred...   \n",
       "\n",
       "                                                   crew  \\\n",
       "0     [{\"credit_id\": \"52fe420dc3a36847f800012d\", \"de...   \n",
       "1     [{\"credit_id\": \"52fe420dc3a36847f8000437\", \"de...   \n",
       "2     [{\"credit_id\": \"52fe420ec3a36847f80006b1\", \"de...   \n",
       "3     [{\"credit_id\": \"52fe420ec3a36847f800076b\", \"de...   \n",
       "4     [{\"credit_id\": \"52fe420ec3a36847f8000809\", \"de...   \n",
       "...                                                 ...   \n",
       "4798  [{\"credit_id\": \"582a4cdb9251417b1803dd47\", \"de...   \n",
       "4799  [{\"credit_id\": \"582e0bdfc3a368772600b6c1\", \"de...   \n",
       "4800  [{\"credit_id\": \"58713acfc3a3684f0a00a9ac\", \"de...   \n",
       "4801                                                 []   \n",
       "4802  [{\"credit_id\": \"592b25e4c3a368783e065a2f\", \"de...   \n",
       "\n",
       "                                                  cast2  \n",
       "0     [Allison Anders\", Allison Anders\", Alexandre R...  \n",
       "1     [George Lucas\", George Lucas\", George Lucas\", ...  \n",
       "2     [Andrew Stanton\", Andrew Stanton\", Andrew Stan...  \n",
       "3     [Alan Silvestri\", Robert Zemeckis\", Winston Gr...  \n",
       "4     [Thomas Newman\", Sam Mendes\", Alan Ball\", Alan...  \n",
       "...                                                 ...  \n",
       "4798  [{\"credit_id\": \"582a4cdb9251417b1803dd47\", \"de...  \n",
       "4799  [{\"credit_id\": \"582e0bdfc3a368772600b6c1\", \"de...  \n",
       "4800  [{\"credit_id\": \"58713acfc3a3684f0a00a9ac\", \"de...  \n",
       "4801                                                 []  \n",
       "4802  [{\"credit_id\": \"592b25e4c3a368783e065a2f\", \"de...  \n",
       "\n",
       "[4803 rows x 5 columns]"
      ]
     },
     "execution_count": 108,
     "metadata": {},
     "output_type": "execute_result"
    }
   ],
   "source": [
    "df['cast2'] = dfc\n",
    "df"
   ]
  },
  {
   "cell_type": "code",
   "execution_count": 107,
   "id": "f309a1ab-f9eb-4218-8df1-1ade985075db",
   "metadata": {},
   "outputs": [
    {
     "name": "stderr",
     "output_type": "stream",
     "text": [
      "C:\\Users\\Rohit Khare\\AppData\\Local\\Temp\\ipykernel_16356\\3548046321.py:17: SettingWithCopyWarning: \n",
      "A value is trying to be set on a copy of a slice from a DataFrame\n",
      "\n",
      "See the caveats in the documentation: https://pandas.pydata.org/pandas-docs/stable/user_guide/indexing.html#returning-a-view-versus-a-copy\n",
      "  dfc[i] = u\n"
     ]
    },
    {
     "ename": "AttributeError",
     "evalue": "'float' object has no attribute 'split'",
     "output_type": "error",
     "traceback": [
      "\u001b[1;31m---------------------------------------------------------------------------\u001b[0m",
      "\u001b[1;31mAttributeError\u001b[0m                            Traceback (most recent call last)",
      "Input \u001b[1;32mIn [107]\u001b[0m, in \u001b[0;36m<cell line: 3>\u001b[1;34m()\u001b[0m\n\u001b[0;32m      4\u001b[0m c \u001b[38;5;241m=\u001b[39m (rows[\u001b[38;5;124m'\u001b[39m\u001b[38;5;124mcrew\u001b[39m\u001b[38;5;124m'\u001b[39m])\n\u001b[0;32m      5\u001b[0m \u001b[38;5;66;03m#c = c.replace('[','')\u001b[39;00m\n\u001b[0;32m      6\u001b[0m \u001b[38;5;66;03m#c = c.replace(']','')\u001b[39;00m\n\u001b[0;32m      7\u001b[0m \u001b[38;5;66;03m#c = c.replace('\"','')\u001b[39;00m\n\u001b[1;32m----> 8\u001b[0m p \u001b[38;5;241m=\u001b[39m \u001b[43mc\u001b[49m\u001b[38;5;241;43m.\u001b[39;49m\u001b[43msplit\u001b[49m(\u001b[38;5;124m'\u001b[39m\u001b[38;5;124m,\u001b[39m\u001b[38;5;124m'\u001b[39m)\n\u001b[0;32m      9\u001b[0m h \u001b[38;5;241m=\u001b[39m \u001b[38;5;28mlen\u001b[39m(p)\n\u001b[0;32m     10\u001b[0m u\u001b[38;5;241m=\u001b[39m[]\n",
      "\u001b[1;31mAttributeError\u001b[0m: 'float' object has no attribute 'split'"
     ]
    }
   ],
   "source": [
    "df_cast = df[['crew', 'movie_id']]\n",
    "dfc = df_cast['crew']\n",
    "for i,rows in df_cast.iterrows():\n",
    "    c = (rows['crew'])\n",
    "    #c = c.replace('[','')\n",
    "    #c = c.replace(']','')\n",
    "    #c = c.replace('\"','')\n",
    "    p = c.split(',')\n",
    "    h = len(p)\n",
    "    u=[]\n",
    "    for k in range (h):\n",
    "        l = p[k].split(':')\n",
    "        if((l[0][2:len(l[0])-1]) == 'name'):\n",
    "            u.append(l[1][2:len(l[1])-1])\n",
    "    #print(u[0])\n",
    "    #u.apply(lambda x: x.replace('\"','') for x in u)\n",
    "    dfc[i] = u"
   ]
  },
  {
   "cell_type": "code",
   "execution_count": null,
   "id": "e60d38ad-f999-47d5-a782-774e346ed463",
   "metadata": {},
   "outputs": [],
   "source": [
    "dfc"
   ]
  },
  {
   "cell_type": "code",
   "execution_count": null,
   "id": "03266713-fb96-432b-9107-31e6f8d8e2d2",
   "metadata": {},
   "outputs": [],
   "source": [
    "for i,rows in df_cast.iterrows():\n",
    "    c = rows['crew']\n",
    "    #c.replace('\"','')\n",
    "    dfc[i] = ''.join(ps.stem(w) for w in c)\n",
    "    dfc[i] = dfc[i].replace('\"',' ')"
   ]
  },
  {
   "cell_type": "code",
   "execution_count": null,
   "id": "493d80b7-4374-4876-a532-00075a274b31",
   "metadata": {},
   "outputs": [],
   "source": [
    "df['crew2'] = dfc"
   ]
  },
  {
   "cell_type": "code",
   "execution_count": null,
   "id": "f1cfc95f-e012-4bd8-b2ea-0c6c8c56e5ca",
   "metadata": {},
   "outputs": [],
   "source": [
    "df"
   ]
  },
  {
   "cell_type": "code",
   "execution_count": null,
   "id": "e67c1abc-c09e-4ef4-a5d3-9ba578b5fd22",
   "metadata": {},
   "outputs": [],
   "source": [
    "fd.columns"
   ]
  },
  {
   "cell_type": "code",
   "execution_count": null,
   "id": "e0534369-8bb7-48dc-869f-6e4e362f3f35",
   "metadata": {},
   "outputs": [],
   "source": [
    "fd = fd.iloc[:,[17] + [1] + [4] +[7]]"
   ]
  },
  {
   "cell_type": "code",
   "execution_count": null,
   "id": "31516d1d-0885-4a07-90f3-b04237c1a9cf",
   "metadata": {},
   "outputs": [],
   "source": [
    "fd_genres = fd[['genres','title']]\n",
    "fdc = fd_genres['genres']"
   ]
  },
  {
   "cell_type": "code",
   "execution_count": null,
   "id": "d116ea12-5d17-446d-a9b5-258cb2b40fba",
   "metadata": {},
   "outputs": [],
   "source": [
    "for i, rows in fd_genres.iterrows():\n",
    "    c = (rows['genres'])\n",
    "    c = c.replace('[','')\n",
    "    c = c.replace(']','')\n",
    "    #c = c.replace('\"','')\n",
    "    p = c.split(',')\n",
    "    h = len(p)\n",
    "    u=[]\n",
    "    for k in range (h):\n",
    "        l = p[k].split(':')\n",
    "        if((l[0][2:len(l[0])-1]) == 'name'):\n",
    "            u.append(l[1][2:len(l[1])-1])\n",
    "    #print(u[0])\n",
    "    #u.apply(lambda x: x.replace('\"','') for x in u)\n",
    "    fdc[i] = ' '.join(ps.stem(w) for w in u)\n",
    "    fdc[i] = fdc[i].replace('\"','')\n",
    "fdc"
   ]
  },
  {
   "cell_type": "code",
   "execution_count": null,
   "id": "ff3b5bb8-72a1-487e-9f61-0d9261732aa0",
   "metadata": {},
   "outputs": [],
   "source": [
    "fd['genres2'] = fdc"
   ]
  },
  {
   "cell_type": "code",
   "execution_count": null,
   "id": "97a34a2c-3b3a-456e-9b38-1b231ab03c87",
   "metadata": {},
   "outputs": [],
   "source": [
    "fd"
   ]
  },
  {
   "cell_type": "code",
   "execution_count": null,
   "id": "07091df0-8dc3-4199-910e-1171b53185b0",
   "metadata": {},
   "outputs": [],
   "source": [
    "fd_genres = fd[['keywords','title']]\n",
    "fdc = fd_genres['keywords']\n",
    "for i, rows in fd_genres.iterrows():\n",
    "    c = (rows['keywords'])\n",
    "    c = c.replace('[','')\n",
    "    c = c.replace(']','')\n",
    "    #c = c.replace('\"','')\n",
    "    p = c.split(',')\n",
    "    h = len(p)\n",
    "    u=[]\n",
    "    for k in range (h):\n",
    "        l = p[k].split(':')\n",
    "        if((l[0][2:len(l[0])-1]) == 'name'):\n",
    "            u.append(l[1][2:len(l[1])-1])\n",
    "    #print(u[0])\n",
    "    #u.apply(lambda x: x.replace('\"','') for x in u)\n",
    "    fdc[i] = ' '.join(ps.stem(w) for w in u)\n",
    "    fdc[i] = fdc[i].replace('\"',' ')"
   ]
  },
  {
   "cell_type": "code",
   "execution_count": null,
   "id": "5654e697-3fc4-487f-adce-5c1f6a4a9ce2",
   "metadata": {},
   "outputs": [],
   "source": [
    "fd['keywords2'] = fdc"
   ]
  },
  {
   "cell_type": "code",
   "execution_count": null,
   "id": "dff3787f-e9cc-41ed-9874-82f52d09f74a",
   "metadata": {},
   "outputs": [],
   "source": [
    "fd_genres = fd[['overview','title']]\n",
    "fdc = fd_genres['overview']\n",
    "for i, rows in fd_genres.iterrows():\n",
    "    c = (rows['overview'])\n",
    "    #c = c.replace('[','')\n",
    "    #c = c.replace(']','')\n",
    "    #c = c.replace('\"','')\n",
    "    p = c.split()\n",
    "    #h = len(p)\n",
    "    fdc[i] = ' '.join(ps.stem(w) for w in p)\n",
    "    fdc[i] = fdc[i].replace('\"','')\n",
    "    #fdc[i] = ''.join(ps.stem(w) for w in c)"
   ]
  },
  {
   "cell_type": "code",
   "execution_count": null,
   "id": "816f4507-5164-47d0-b3d8-1b1e34df26b0",
   "metadata": {},
   "outputs": [],
   "source": [
    "fd['overview2'] = fdc"
   ]
  },
  {
   "cell_type": "code",
   "execution_count": null,
   "id": "a3978dd0-ef65-41bf-b747-32af0e0dac8c",
   "metadata": {},
   "outputs": [],
   "source": [
    "fd = fd.iloc[:, [0] + [-1] + [-2] + [-3]]"
   ]
  },
  {
   "cell_type": "code",
   "execution_count": null,
   "id": "66885f3a-5b00-4cbd-8910-34dda2984f1e",
   "metadata": {},
   "outputs": [],
   "source": [
    "fd['overview'] = fd['overview2'] + fd['keywords2'] + fd['genres2']"
   ]
  },
  {
   "cell_type": "code",
   "execution_count": null,
   "id": "e4cd12b5-3fec-4464-abf6-8af0428971fd",
   "metadata": {},
   "outputs": [],
   "source": [
    "fd['overview'][0]"
   ]
  },
  {
   "cell_type": "code",
   "execution_count": null,
   "id": "0ede184c",
   "metadata": {},
   "outputs": [],
   "source": [
    "fd = fd[['title','overview']]"
   ]
  },
  {
   "cell_type": "code",
   "execution_count": null,
   "id": "95828e08-486d-4c3f-8f30-b4c738cc6e74",
   "metadata": {},
   "outputs": [],
   "source": [
    "df = df.merge(fd, how='inner', on = 'title')"
   ]
  },
  {
   "cell_type": "code",
   "execution_count": null,
   "id": "5bd66771",
   "metadata": {},
   "outputs": [],
   "source": [
    "df['overview'] = df['overview'] + df['cast2'] + df['crew2']"
   ]
  },
  {
   "cell_type": "code",
   "execution_count": null,
   "id": "cd63de59",
   "metadata": {},
   "outputs": [],
   "source": [
    "X = cv.fit_transform(df['overview']).toarray()"
   ]
  },
  {
   "cell_type": "code",
   "execution_count": null,
   "id": "42d208d2",
   "metadata": {},
   "outputs": [],
   "source": [
    "from sklearn.metrics.pairwise import cosine_similarity\n",
    "x = cosine_similarity(X)"
   ]
  },
  {
   "cell_type": "code",
   "execution_count": null,
   "id": "131768c8",
   "metadata": {},
   "outputs": [],
   "source": [
    "x.shape"
   ]
  },
  {
   "cell_type": "code",
   "execution_count": null,
   "id": "6214600b",
   "metadata": {},
   "outputs": [],
   "source": [
    "def recom(movie):\n",
    "    movie_index = df[df['title'] == movie].index[0]\n",
    "    distance = x[movie_index]\n",
    "    movie_list = sorted(list(enumerate(distance)), reverse = True, key = lambda x:x[1])[1:6]\n",
    "    #print(movie_list)\n",
    "    for i in movie_list:\n",
    "        print(df.iloc[i[0]].title)"
   ]
  },
  {
   "cell_type": "code",
   "execution_count": 98,
   "id": "be6fef09",
   "metadata": {},
   "outputs": [
    {
     "ename": "IndexError",
     "evalue": "index 0 is out of bounds for axis 0 with size 0",
     "output_type": "error",
     "traceback": [
      "\u001b[1;31m---------------------------------------------------------------------------\u001b[0m",
      "\u001b[1;31mIndexError\u001b[0m                                Traceback (most recent call last)",
      "Input \u001b[1;32mIn [98]\u001b[0m, in \u001b[0;36m<cell line: 1>\u001b[1;34m()\u001b[0m\n\u001b[1;32m----> 1\u001b[0m \u001b[43mrecom\u001b[49m\u001b[43m(\u001b[49m\u001b[38;5;124;43m'\u001b[39;49m\u001b[38;5;124;43mToy Story\u001b[39;49m\u001b[38;5;124;43m'\u001b[39;49m\u001b[43m)\u001b[49m\n",
      "Input \u001b[1;32mIn [93]\u001b[0m, in \u001b[0;36mrecom\u001b[1;34m(movie)\u001b[0m\n\u001b[0;32m      1\u001b[0m \u001b[38;5;28;01mdef\u001b[39;00m \u001b[38;5;21mrecom\u001b[39m(movie):\n\u001b[1;32m----> 2\u001b[0m     movie_index \u001b[38;5;241m=\u001b[39m \u001b[43mdf\u001b[49m\u001b[43m[\u001b[49m\u001b[43mdf\u001b[49m\u001b[43m[\u001b[49m\u001b[38;5;124;43m'\u001b[39;49m\u001b[38;5;124;43mtitle\u001b[39;49m\u001b[38;5;124;43m'\u001b[39;49m\u001b[43m]\u001b[49m\u001b[43m \u001b[49m\u001b[38;5;241;43m==\u001b[39;49m\u001b[43m \u001b[49m\u001b[43mmovie\u001b[49m\u001b[43m]\u001b[49m\u001b[38;5;241;43m.\u001b[39;49m\u001b[43mindex\u001b[49m\u001b[43m[\u001b[49m\u001b[38;5;241;43m0\u001b[39;49m\u001b[43m]\u001b[49m\n\u001b[0;32m      3\u001b[0m     distance \u001b[38;5;241m=\u001b[39m x[movie_index]\n\u001b[0;32m      4\u001b[0m     movie_list \u001b[38;5;241m=\u001b[39m \u001b[38;5;28msorted\u001b[39m(\u001b[38;5;28mlist\u001b[39m(\u001b[38;5;28menumerate\u001b[39m(distance)), reverse \u001b[38;5;241m=\u001b[39m \u001b[38;5;28;01mTrue\u001b[39;00m, key \u001b[38;5;241m=\u001b[39m \u001b[38;5;28;01mlambda\u001b[39;00m x:x[\u001b[38;5;241m1\u001b[39m])[\u001b[38;5;241m1\u001b[39m:\u001b[38;5;241m6\u001b[39m]\n",
      "File \u001b[1;32mD:\\Anaconda\\lib\\site-packages\\pandas\\core\\indexes\\base.py:5039\u001b[0m, in \u001b[0;36mIndex.__getitem__\u001b[1;34m(self, key)\u001b[0m\n\u001b[0;32m   5036\u001b[0m \u001b[38;5;28;01mif\u001b[39;00m is_integer(key) \u001b[38;5;129;01mor\u001b[39;00m is_float(key):\n\u001b[0;32m   5037\u001b[0m     \u001b[38;5;66;03m# GH#44051 exclude bool, which would return a 2d ndarray\u001b[39;00m\n\u001b[0;32m   5038\u001b[0m     key \u001b[38;5;241m=\u001b[39m com\u001b[38;5;241m.\u001b[39mcast_scalar_indexer(key, warn_float\u001b[38;5;241m=\u001b[39m\u001b[38;5;28;01mTrue\u001b[39;00m)\n\u001b[1;32m-> 5039\u001b[0m     \u001b[38;5;28;01mreturn\u001b[39;00m \u001b[43mgetitem\u001b[49m\u001b[43m(\u001b[49m\u001b[43mkey\u001b[49m\u001b[43m)\u001b[49m\n\u001b[0;32m   5041\u001b[0m \u001b[38;5;28;01mif\u001b[39;00m \u001b[38;5;28misinstance\u001b[39m(key, \u001b[38;5;28mslice\u001b[39m):\n\u001b[0;32m   5042\u001b[0m     \u001b[38;5;66;03m# This case is separated from the conditional above to avoid\u001b[39;00m\n\u001b[0;32m   5043\u001b[0m     \u001b[38;5;66;03m# pessimization com.is_bool_indexer and ndim checks.\u001b[39;00m\n\u001b[0;32m   5044\u001b[0m     result \u001b[38;5;241m=\u001b[39m getitem(key)\n",
      "\u001b[1;31mIndexError\u001b[0m: index 0 is out of bounds for axis 0 with size 0"
     ]
    }
   ],
   "source": [
    "recom('Toy Story')"
   ]
  },
  {
   "cell_type": "code",
   "execution_count": 99,
   "id": "c5c96ea6",
   "metadata": {},
   "outputs": [
    {
     "data": {
      "text/html": [
       "<div>\n",
       "<style scoped>\n",
       "    .dataframe tbody tr th:only-of-type {\n",
       "        vertical-align: middle;\n",
       "    }\n",
       "\n",
       "    .dataframe tbody tr th {\n",
       "        vertical-align: top;\n",
       "    }\n",
       "\n",
       "    .dataframe thead th {\n",
       "        text-align: right;\n",
       "    }\n",
       "</style>\n",
       "<table border=\"1\" class=\"dataframe\">\n",
       "  <thead>\n",
       "    <tr style=\"text-align: right;\">\n",
       "      <th></th>\n",
       "      <th>movie_id</th>\n",
       "      <th>title</th>\n",
       "      <th>cast</th>\n",
       "      <th>crew</th>\n",
       "      <th>cast2</th>\n",
       "      <th>crew2</th>\n",
       "      <th>overview</th>\n",
       "    </tr>\n",
       "  </thead>\n",
       "  <tbody>\n",
       "    <tr>\n",
       "      <th>0</th>\n",
       "      <td>11</td>\n",
       "      <td>Star Wars</td>\n",
       "      <td>[{\"cast_id\": 3, \"character\": \"Luke Skywalker\",...</td>\n",
       "      <td>[{\"credit_id\": \"52fe420dc3a36847f8000437\", \"de...</td>\n",
       "      <td>mark hamilharrison fordcarrie fishpeter cushal...</td>\n",
       "      <td>george lucas george lucas george lucas gary ku...</td>\n",
       "      <td>princess leia is captur and held hostag by the...</td>\n",
       "    </tr>\n",
       "    <tr>\n",
       "      <th>1</th>\n",
       "      <td>12</td>\n",
       "      <td>Finding Nemo</td>\n",
       "      <td>[{\"cast_id\": 8, \"character\": \"Marlin (voice)\",...</td>\n",
       "      <td>[{\"credit_id\": \"52fe420ec3a36847f80006b1\", \"de...</td>\n",
       "      <td>albert brookellen degeneralexander gouldwillem...</td>\n",
       "      <td>andrew stanton andrew stanton andrew stanton l...</td>\n",
       "      <td>nemo, an adventur young clownfish, is unexpect...</td>\n",
       "    </tr>\n",
       "    <tr>\n",
       "      <th>2</th>\n",
       "      <td>14</td>\n",
       "      <td>American Beauty</td>\n",
       "      <td>[{\"cast_id\": 6, \"character\": \"Lester Burnham\",...</td>\n",
       "      <td>[{\"credit_id\": \"52fe420ec3a36847f8000809\", \"de...</td>\n",
       "      <td>kevin spaceyannette benthora birchwes bentleym...</td>\n",
       "      <td>thomas newman sam mendes alan ball alan ball a...</td>\n",
       "      <td>lester burnham, a depress suburban father in a...</td>\n",
       "    </tr>\n",
       "    <tr>\n",
       "      <th>3</th>\n",
       "      <td>22</td>\n",
       "      <td>Pirates of the Caribbean: The Curse of the Bla...</td>\n",
       "      <td>[{\"cast_id\": 12, \"character\": \"Captain Jack Sp...</td>\n",
       "      <td>[{\"credit_id\": \"52fe420fc3a36847f8000f11\", \"de...</td>\n",
       "      <td>johnny deppgeoffrey rushorlando bloomkeira kni...</td>\n",
       "      <td>arthur schmidt dariusz wolski klaus badelt gor...</td>\n",
       "      <td>jack sparrow, a freewheel 17th-centuri pirat w...</td>\n",
       "    </tr>\n",
       "    <tr>\n",
       "      <th>4</th>\n",
       "      <td>24</td>\n",
       "      <td>Kill Bill: Vol. 1</td>\n",
       "      <td>[{\"cast_id\": 3, \"character\": \"Beatrix 'The Bri...</td>\n",
       "      <td>[{\"credit_id\": \"56a517709251410c080054d2\", \"de...</td>\n",
       "      <td>uma thurmanlucy liuvivica a. foxdaryl hannahda...</td>\n",
       "      <td>robert rodriguez quentin tarantino quentin tar...</td>\n",
       "      <td>an assassin is shot at the altar by her ruthle...</td>\n",
       "    </tr>\n",
       "    <tr>\n",
       "      <th>...</th>\n",
       "      <td>...</td>\n",
       "      <td>...</td>\n",
       "      <td>...</td>\n",
       "      <td>...</td>\n",
       "      <td>...</td>\n",
       "      <td>...</td>\n",
       "      <td>...</td>\n",
       "    </tr>\n",
       "    <tr>\n",
       "      <th>1486</th>\n",
       "      <td>376659</td>\n",
       "      <td>Bad Moms</td>\n",
       "      <td>[{\"cast_id\": 0, \"character\": \"Amy Mitchell\", \"...</td>\n",
       "      <td>[{\"credit_id\": \"5690c7adc3a3686b52001c68\", \"de...</td>\n",
       "      <td>mila kunikristen belkathryn hahnchristina appl...</td>\n",
       "      <td>jon lucas jon lucas scott moore scott moore</td>\n",
       "      <td>when three overwork and under-appreci mom are ...</td>\n",
       "    </tr>\n",
       "    <tr>\n",
       "      <th>1487</th>\n",
       "      <td>385383</td>\n",
       "      <td>Fight Valley</td>\n",
       "      <td>[{\"cast_id\": 2, \"character\": \"Duke\", \"credit_i...</td>\n",
       "      <td>[{\"credit_id\": \"56ed0e07c3a36822590056b3\", \"de...</td>\n",
       "      <td>erin o'brienmiesha tholly holmcristiane justin...</td>\n",
       "      <td>michael p. lucas rob hawk rob hawk arthur maur...</td>\n",
       "      <td>when tori coro turn up dead, the neighborhood ...</td>\n",
       "    </tr>\n",
       "    <tr>\n",
       "      <th>1488</th>\n",
       "      <td>385736</td>\n",
       "      <td>Kicks</td>\n",
       "      <td>[{\"cast_id\": 2, \"character\": \"Marlon\", \"credit...</td>\n",
       "      <td>[{\"credit_id\": \"570f87d992514102b9002c1e\", \"de...</td>\n",
       "      <td>mahershala alikofi siribochristopher meynatali...</td>\n",
       "      <td>brian reitzell joshua astrachan erik rommesmo ...</td>\n",
       "      <td>when hi hard-earn kick get snatch by a local h...</td>\n",
       "    </tr>\n",
       "    <tr>\n",
       "      <th>1489</th>\n",
       "      <td>394047</td>\n",
       "      <td>The Dog Lover</td>\n",
       "      <td>[{\"cast_id\": 4, \"character\": \"Sara Gold\", \"cre...</td>\n",
       "      <td>[{\"credit_id\": \"58ec10d592514152ac04483f\", \"de...</td>\n",
       "      <td>allison paigjames remarlea thompsonjayson blai...</td>\n",
       "      <td>ali afshar alex ranarivelo alex ranarivelo reu...</td>\n",
       "      <td>sara gold is a young girl on a quest to save m...</td>\n",
       "    </tr>\n",
       "    <tr>\n",
       "      <th>1490</th>\n",
       "      <td>426469</td>\n",
       "      <td>Growing Up Smith</td>\n",
       "      <td>[{\"cast_id\": 4, \"character\": \"Smith Bhatnagar\"...</td>\n",
       "      <td>[{\"credit_id\": \"582e0bdfc3a368772600b6c1\", \"de...</td>\n",
       "      <td>roni akuratibrighton sharbinojason leanjul nig...</td>\n",
       "      <td>frank lotito gregory scott houghton josh rathm...</td>\n",
       "      <td>in 1979, an indian famili move to america with...</td>\n",
       "    </tr>\n",
       "  </tbody>\n",
       "</table>\n",
       "<p>1491 rows × 7 columns</p>\n",
       "</div>"
      ],
      "text/plain": [
       "      movie_id                                              title  \\\n",
       "0           11                                          Star Wars   \n",
       "1           12                                       Finding Nemo   \n",
       "2           14                                    American Beauty   \n",
       "3           22  Pirates of the Caribbean: The Curse of the Bla...   \n",
       "4           24                                  Kill Bill: Vol. 1   \n",
       "...        ...                                                ...   \n",
       "1486    376659                                           Bad Moms   \n",
       "1487    385383                                       Fight Valley   \n",
       "1488    385736                                              Kicks   \n",
       "1489    394047                                      The Dog Lover   \n",
       "1490    426469                                   Growing Up Smith   \n",
       "\n",
       "                                                   cast  \\\n",
       "0     [{\"cast_id\": 3, \"character\": \"Luke Skywalker\",...   \n",
       "1     [{\"cast_id\": 8, \"character\": \"Marlin (voice)\",...   \n",
       "2     [{\"cast_id\": 6, \"character\": \"Lester Burnham\",...   \n",
       "3     [{\"cast_id\": 12, \"character\": \"Captain Jack Sp...   \n",
       "4     [{\"cast_id\": 3, \"character\": \"Beatrix 'The Bri...   \n",
       "...                                                 ...   \n",
       "1486  [{\"cast_id\": 0, \"character\": \"Amy Mitchell\", \"...   \n",
       "1487  [{\"cast_id\": 2, \"character\": \"Duke\", \"credit_i...   \n",
       "1488  [{\"cast_id\": 2, \"character\": \"Marlon\", \"credit...   \n",
       "1489  [{\"cast_id\": 4, \"character\": \"Sara Gold\", \"cre...   \n",
       "1490  [{\"cast_id\": 4, \"character\": \"Smith Bhatnagar\"...   \n",
       "\n",
       "                                                   crew  \\\n",
       "0     [{\"credit_id\": \"52fe420dc3a36847f8000437\", \"de...   \n",
       "1     [{\"credit_id\": \"52fe420ec3a36847f80006b1\", \"de...   \n",
       "2     [{\"credit_id\": \"52fe420ec3a36847f8000809\", \"de...   \n",
       "3     [{\"credit_id\": \"52fe420fc3a36847f8000f11\", \"de...   \n",
       "4     [{\"credit_id\": \"56a517709251410c080054d2\", \"de...   \n",
       "...                                                 ...   \n",
       "1486  [{\"credit_id\": \"5690c7adc3a3686b52001c68\", \"de...   \n",
       "1487  [{\"credit_id\": \"56ed0e07c3a36822590056b3\", \"de...   \n",
       "1488  [{\"credit_id\": \"570f87d992514102b9002c1e\", \"de...   \n",
       "1489  [{\"credit_id\": \"58ec10d592514152ac04483f\", \"de...   \n",
       "1490  [{\"credit_id\": \"582e0bdfc3a368772600b6c1\", \"de...   \n",
       "\n",
       "                                                  cast2  \\\n",
       "0     mark hamilharrison fordcarrie fishpeter cushal...   \n",
       "1     albert brookellen degeneralexander gouldwillem...   \n",
       "2     kevin spaceyannette benthora birchwes bentleym...   \n",
       "3     johnny deppgeoffrey rushorlando bloomkeira kni...   \n",
       "4     uma thurmanlucy liuvivica a. foxdaryl hannahda...   \n",
       "...                                                 ...   \n",
       "1486  mila kunikristen belkathryn hahnchristina appl...   \n",
       "1487  erin o'brienmiesha tholly holmcristiane justin...   \n",
       "1488  mahershala alikofi siribochristopher meynatali...   \n",
       "1489  allison paigjames remarlea thompsonjayson blai...   \n",
       "1490  roni akuratibrighton sharbinojason leanjul nig...   \n",
       "\n",
       "                                                  crew2  \\\n",
       "0     george lucas george lucas george lucas gary ku...   \n",
       "1     andrew stanton andrew stanton andrew stanton l...   \n",
       "2     thomas newman sam mendes alan ball alan ball a...   \n",
       "3     arthur schmidt dariusz wolski klaus badelt gor...   \n",
       "4     robert rodriguez quentin tarantino quentin tar...   \n",
       "...                                                 ...   \n",
       "1486       jon lucas jon lucas scott moore scott moore    \n",
       "1487  michael p. lucas rob hawk rob hawk arthur maur...   \n",
       "1488  brian reitzell joshua astrachan erik rommesmo ...   \n",
       "1489  ali afshar alex ranarivelo alex ranarivelo reu...   \n",
       "1490  frank lotito gregory scott houghton josh rathm...   \n",
       "\n",
       "                                               overview  \n",
       "0     princess leia is captur and held hostag by the...  \n",
       "1     nemo, an adventur young clownfish, is unexpect...  \n",
       "2     lester burnham, a depress suburban father in a...  \n",
       "3     jack sparrow, a freewheel 17th-centuri pirat w...  \n",
       "4     an assassin is shot at the altar by her ruthle...  \n",
       "...                                                 ...  \n",
       "1486  when three overwork and under-appreci mom are ...  \n",
       "1487  when tori coro turn up dead, the neighborhood ...  \n",
       "1488  when hi hard-earn kick get snatch by a local h...  \n",
       "1489  sara gold is a young girl on a quest to save m...  \n",
       "1490  in 1979, an indian famili move to america with...  \n",
       "\n",
       "[1491 rows x 7 columns]"
      ]
     },
     "execution_count": 99,
     "metadata": {},
     "output_type": "execute_result"
    }
   ],
   "source": [
    "df"
   ]
  },
  {
   "cell_type": "code",
   "execution_count": null,
   "id": "63197426",
   "metadata": {},
   "outputs": [],
   "source": []
  }
 ],
 "metadata": {
  "kernelspec": {
   "display_name": "Python 3 (ipykernel)",
   "language": "python",
   "name": "python3"
  },
  "language_info": {
   "codemirror_mode": {
    "name": "ipython",
    "version": 3
   },
   "file_extension": ".py",
   "mimetype": "text/x-python",
   "name": "python",
   "nbconvert_exporter": "python",
   "pygments_lexer": "ipython3",
   "version": "3.9.12"
  }
 },
 "nbformat": 4,
 "nbformat_minor": 5
}
